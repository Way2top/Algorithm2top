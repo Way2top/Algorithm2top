{
 "cells": [
  {
   "cell_type": "markdown",
   "id": "c1079225-a2ce-4b06-89d4-6867cbbfdfb6",
   "metadata": {},
   "source": [
    "### 荷兰国旗问题\n",
    "#### 给定一个数组arr，和一个数num，请把小于num的数放在数组的左边，等于num的数放在数组的中间，大于num的数放在数组的右边。要求额外空间复杂度O(1)，时间复杂度O(N)。"
   ]
  },
  {
   "cell_type": "code",
   "execution_count": 12,
   "id": "0eae789b-d227-4a29-89a2-5963ea487512",
   "metadata": {},
   "outputs": [
    {
     "name": "stdout",
     "output_type": "stream",
     "text": [
      "[3, 1, 2, 2, 2, 5, 5, 9, 6, 7]\n"
     ]
    }
   ],
   "source": [
    "def solution(arr:list, num:int):\n",
    "    n = len(arr)\n",
    "    left = -1\n",
    "    right = n\n",
    "    i = 0\n",
    "    while i != right:\n",
    "        if arr[i] < num:\n",
    "            arr[i], arr[left + 1] = arr[left + 1], arr[i]\n",
    "            left += 1\n",
    "            i += 1\n",
    "        elif arr[i] == num:\n",
    "            i += 1\n",
    "        else:\n",
    "            arr[i], arr[right -1] = arr[right - 1], arr[i]\n",
    "            right -= 1\n",
    "            # i 不变\n",
    "    return arr\n",
    "result = solution([3,1,2,5,7,6,2,5,9,2], 5)\n",
    "print(result)"
   ]
  },
  {
   "cell_type": "code",
   "execution_count": null,
   "id": "2eb53be7-127d-4390-adf5-e656d41e2d66",
   "metadata": {},
   "outputs": [],
   "source": []
  }
 ],
 "metadata": {
  "kernelspec": {
   "display_name": "Python 3 (ipykernel)",
   "language": "python",
   "name": "python3"
  },
  "language_info": {
   "codemirror_mode": {
    "name": "ipython",
    "version": 3
   },
   "file_extension": ".py",
   "mimetype": "text/x-python",
   "name": "python",
   "nbconvert_exporter": "python",
   "pygments_lexer": "ipython3",
   "version": "3.12.7"
  }
 },
 "nbformat": 4,
 "nbformat_minor": 5
}
