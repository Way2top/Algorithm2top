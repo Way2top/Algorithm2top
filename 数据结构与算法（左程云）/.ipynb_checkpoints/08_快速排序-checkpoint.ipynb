{
 "cells": [
  {
   "cell_type": "code",
   "execution_count": 18,
   "id": "95e397c2-23eb-49d2-913e-da8d35b9ed4d",
   "metadata": {},
   "outputs": [
    {
     "data": {
      "text/plain": [
       "[1, 1, 2, 3, 3, 4, 5, 5, 5, 9]"
      ]
     },
     "execution_count": 18,
     "metadata": {},
     "output_type": "execute_result"
    }
   ],
   "source": [
    "from random import randint\n",
    "\n",
    "def quickSort(arr, L, R):\n",
    "    if L < R:\n",
    "        # 随机选一个数和最后一个数做交换\n",
    "        arr[randint(L, R)], arr[R] = arr[R], arr[randint(L, R)]\n",
    "\n",
    "        p = partition(arr, L, R)\n",
    "        quickSort(arr, L, p[0] - 1)\n",
    "        quickSort(arr, p[1] + 1, R)\n",
    "\n",
    "def partition(arr, L, R):\n",
    "    # L 和 R代表数组的第一个下标和最后一个下标\n",
    "    # left 和 right代表小于区和大于区的起始位置\n",
    "    left = L - 1 \n",
    "    right = R # 这里初始化为 R，也就是 len(arr) - 1的大小，而荷兰国旗问题是初始化为 len(arr)的大小，区别在于荷兰国旗问题的 num不必再数组中，而快排的话要求保留num在数组中的位置 \n",
    "    # 实现过程中L会不断向前，直到遇见大于区的边界\n",
    "    while L != right:\n",
    "        if arr[L] < arr[R]:\n",
    "            arr[L], arr[left + 1] = arr[left + 1], arr[L]\n",
    "            left += 1\n",
    "            L += 1\n",
    "        elif arr[L] == arr[R]:\n",
    "            L += 1\n",
    "        else:\n",
    "            arr[L], arr[right - 1] = arr[right - 1], arr[L]\n",
    "            right -= 1\n",
    "            \n",
    "    # 将基准元素放到正确的位置\n",
    "    arr[right], arr[R] = arr[R], arr[right]\n",
    "    return left + 1, right\n",
    "\n",
    "result = [2, 3, 4, 3, 1, 5, 6, 1, 5, 9]\n",
    "quickSort(result, 0, 9)\n",
    "result"
   ]
  },
  {
   "cell_type": "code",
   "execution_count": null,
   "id": "c5988551-a2cb-43b2-9d85-8d91759e3c3d",
   "metadata": {},
   "outputs": [],
   "source": []
  }
 ],
 "metadata": {
  "kernelspec": {
   "display_name": "Python 3 (ipykernel)",
   "language": "python",
   "name": "python3"
  },
  "language_info": {
   "codemirror_mode": {
    "name": "ipython",
    "version": 3
   },
   "file_extension": ".py",
   "mimetype": "text/x-python",
   "name": "python",
   "nbconvert_exporter": "python",
   "pygments_lexer": "ipython3",
   "version": "3.12.7"
  }
 },
 "nbformat": 4,
 "nbformat_minor": 5
}
