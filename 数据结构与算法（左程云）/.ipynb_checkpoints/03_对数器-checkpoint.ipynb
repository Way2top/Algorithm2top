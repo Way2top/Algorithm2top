{
 "cells": [
  {
   "cell_type": "markdown",
   "id": "84c24bdc-d0cc-4f9d-8fd9-0d931b96daf4",
   "metadata": {},
   "source": [
    "对数器是用来检测自己写的算法是否正确的，基本思想是：准备两套算法，一套是自己写的想要测试是否正确的算法，另外一套是系统的或者也是自己写的算法（好想但是时间复杂度等性能不太好的），然后再准备一个随机样例集，然后两套算法同时使用这个样例集（可以测试几十万次），如果完全一样基本可以说明自己写的算法没问题。"
   ]
  },
  {
   "cell_type": "code",
   "execution_count": 33,
   "id": "0ae16391-fcb1-4aa4-a680-73c57e7bc56c",
   "metadata": {},
   "outputs": [],
   "source": [
    "import random\n",
    "\n",
    "# 用对数器测试自己写的插入排序是否有问题\n",
    "def insertionSort(arr:list):\n",
    "    for i in range(1, len(arr)):\n",
    "        current = arr[i]\n",
    "        j = i - 1\n",
    "        while j >= 0 and arr[j] > current:\n",
    "            arr[j+1] = arr[j]\n",
    "            j -= 1\n",
    "        arr[j+1] = current\n",
    "    return arr\n",
    "\n",
    "    \n",
    "def systemSort(arr:list):\n",
    "    arr.sort()\n",
    "    return arr\n",
    "\n",
    "# 生成一个随机长度随机大小的数组\n",
    "def randomArray():\n",
    "    length = random.randint(2, 30)\n",
    "    arr = []\n",
    "    for i in range(length):\n",
    "        arr.append(random.randint(0, 50))\n",
    "    return arr\n",
    "\n",
    "# 比较两个列表是否完全一致\n",
    "def isEqual(arr1:list, arr2:list):\n",
    "    result = True\n",
    "    for i in range(len(arr1)):\n",
    "        if arr1[i] != arr2[i]:\n",
    "            result = False\n",
    "            break\n",
    "    return result"
   ]
  },
  {
   "cell_type": "code",
   "execution_count": 35,
   "id": "a2be00b3-bfe9-46d7-bea0-5bbdb90cf4f6",
   "metadata": {},
   "outputs": [
    {
     "name": "stdout",
     "output_type": "stream",
     "text": [
      "NICE\n"
     ]
    }
   ],
   "source": [
    "# 测试我写的插入排序是否正确\n",
    "testTimes = 500000\n",
    "succeed = True\n",
    "for i in range(testTimes):\n",
    "    arr1 = randomArray()\n",
    "    arr2 = arr1[:]\n",
    "    insertionSort(arr1)\n",
    "    systemSort(arr2)\n",
    "    if isEqual(arr1, arr2) == False:\n",
    "        succeed = False\n",
    "\n",
    "if succeed == False:\n",
    "    print('FKKK')\n",
    "else:\n",
    "    print('NICE')\n",
    "    \n",
    "    "
   ]
  },
  {
   "cell_type": "code",
   "execution_count": 39,
   "id": "f52f15ae-0b08-4a6c-8e87-bdb577cba928",
   "metadata": {},
   "outputs": [
    {
     "data": {
      "text/plain": [
       "[2, 3, 5]"
      ]
     },
     "execution_count": 39,
     "metadata": {},
     "output_type": "execute_result"
    }
   ],
   "source": [
    "a = [5, 3, 2]\n",
    "insertionSort(a)"
   ]
  },
  {
   "cell_type": "code",
   "execution_count": null,
   "id": "cf27d1a5-beb3-44f2-9268-3f7636e60b68",
   "metadata": {},
   "outputs": [],
   "source": []
  }
 ],
 "metadata": {
  "kernelspec": {
   "display_name": "Python 3 (ipykernel)",
   "language": "python",
   "name": "python3"
  },
  "language_info": {
   "codemirror_mode": {
    "name": "ipython",
    "version": 3
   },
   "file_extension": ".py",
   "mimetype": "text/x-python",
   "name": "python",
   "nbconvert_exporter": "python",
   "pygments_lexer": "ipython3",
   "version": "3.12.7"
  }
 },
 "nbformat": 4,
 "nbformat_minor": 5
}
