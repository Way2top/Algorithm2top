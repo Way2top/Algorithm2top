{
 "cells": [
  {
   "cell_type": "code",
   "execution_count": 7,
   "id": "98380500-f769-4f5e-bf28-2e5cad3290e7",
   "metadata": {},
   "outputs": [
    {
     "ename": "UnboundLocalError",
     "evalue": "cannot access local variable 'left' where it is not associated with a value",
     "output_type": "error",
     "traceback": [
      "\u001b[1;31m---------------------------------------------------------------------------\u001b[0m",
      "\u001b[1;31mUnboundLocalError\u001b[0m                         Traceback (most recent call last)",
      "Cell \u001b[1;32mIn[7], line 28\u001b[0m\n\u001b[0;32m     25\u001b[0m     \u001b[38;5;28;01mreturn\u001b[39;00m num\n\u001b[0;32m     27\u001b[0m a \u001b[38;5;241m=\u001b[39m [\u001b[38;5;241m3\u001b[39m, \u001b[38;5;241m1\u001b[39m, \u001b[38;5;241m5\u001b[39m, \u001b[38;5;241m7\u001b[39m, \u001b[38;5;241m2\u001b[39m]\n\u001b[1;32m---> 28\u001b[0m result \u001b[38;5;241m=\u001b[39m merge_sort(a)\n\u001b[0;32m     29\u001b[0m \u001b[38;5;28mprint\u001b[39m(result)\n",
      "Cell \u001b[1;32mIn[7], line 6\u001b[0m, in \u001b[0;36mmerge_sort\u001b[1;34m(arr)\u001b[0m\n\u001b[0;32m      2\u001b[0m mid \u001b[38;5;241m=\u001b[39m \u001b[38;5;28mlen\u001b[39m(arr) \u001b[38;5;241m/\u001b[39m\u001b[38;5;241m/\u001b[39m \u001b[38;5;241m2\u001b[39m\n\u001b[0;32m      3\u001b[0m \u001b[38;5;66;03m# left = arr[:mid]\u001b[39;00m\n\u001b[0;32m      4\u001b[0m \u001b[38;5;66;03m# right = arr[mid:]\u001b[39;00m\n\u001b[1;32m----> 6\u001b[0m left \u001b[38;5;241m=\u001b[39m merge_sort(left)\n\u001b[0;32m      7\u001b[0m right \u001b[38;5;241m=\u001b[39m merge_sort(right)\n\u001b[0;32m      9\u001b[0m \u001b[38;5;28;01mreturn\u001b[39;00m merge(left, right)\n",
      "\u001b[1;31mUnboundLocalError\u001b[0m: cannot access local variable 'left' where it is not associated with a value"
     ]
    }
   ],
   "source": [
    "def merge_sort(arr:list):\n",
    "    mid = len(arr) // 2\n",
    "    # left = arr[:mid]\n",
    "    # right = arr[mid:]\n",
    "\n",
    "    left = merge_sort(left)\n",
    "    right = merge_sort(right)\n",
    "    \n",
    "    return merge(left, right)\n",
    "    \n",
    "def merge(left:list, right:list):\n",
    "    num = []\n",
    "    i = 0\n",
    "    j = 0\n",
    "    while i < len(left) and j < len(right):\n",
    "        if left[i] <= right[j]:\n",
    "            num.append(left[i])\n",
    "            i += 1\n",
    "        else:\n",
    "            num.append(right[j])\n",
    "            j += 1\n",
    "\n",
    "    num.extend(left[i:])\n",
    "    num.extend(right[j:])\n",
    "    return num\n",
    "\n",
    "a = [3, 1, 5, 7, 2]\n",
    "result = merge_sort(a)\n",
    "print(result)\n",
    "    "
   ]
  },
  {
   "cell_type": "code",
   "execution_count": null,
   "id": "91526a39-f8dd-4368-b25a-e0b6209c8fe7",
   "metadata": {},
   "outputs": [],
   "source": []
  }
 ],
 "metadata": {
  "kernelspec": {
   "display_name": "Python 3 (ipykernel)",
   "language": "python",
   "name": "python3"
  },
  "language_info": {
   "codemirror_mode": {
    "name": "ipython",
    "version": 3
   },
   "file_extension": ".py",
   "mimetype": "text/x-python",
   "name": "python",
   "nbconvert_exporter": "python",
   "pygments_lexer": "ipython3",
   "version": "3.12.7"
  }
 },
 "nbformat": 4,
 "nbformat_minor": 5
}
