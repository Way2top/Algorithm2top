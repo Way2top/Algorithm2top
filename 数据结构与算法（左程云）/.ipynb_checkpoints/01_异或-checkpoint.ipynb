{
 "cells": [
  {
   "cell_type": "markdown",
   "id": "9ce89038-a13f-4700-a05c-07b87dc2247b",
   "metadata": {},
   "source": [
    "### 1. 异或运算\n",
    "\n",
    "**性质1：异或基本定义**\n",
    "\n",
    "0  ^ 0 = 0\n",
    "\n",
    "1 ^ 1 = 0\n",
    "\n",
    "0 ^ 1 = 1\n",
    "\n",
    "1 ^ 0 = 1\n",
    "\n",
    "**性质2：满足交换律和结合律**\n",
    "\n",
    "a ^ b = b ^ a\n",
    "\n",
    "(a ^ b) ^ c = a ^ (b ^ c)\n",
    "\n",
    "**性质3：由上面两个性质可以推出，异或是不看顺序的，随意异或一堆数和按照顺序异或一堆数的顺序是一样的**\n",
    "\n",
    "\n",
    "\n",
    "有关性质三，这里有一道题目能够加深对其理解。\n"
   ]
  },
  {
   "cell_type": "markdown",
   "id": "5b3fd8c4-195c-4cc1-857f-481c665c93a2",
   "metadata": {},
   "source": [
    "（1）有一个整型数组，其中有一个数字出现奇数次，其余数字全部出现偶数次，找出这个出现奇数次的数字"
   ]
  },
  {
   "cell_type": "markdown",
   "id": "c51462f5-aa13-475d-8889-3fb5a8cc80a6",
   "metadata": {},
   "source": [
    "解题思路：\n",
    "设置一个初始值 eor，让这个值和数组的每一个元素做异或运算，由于异或满足交换律和结合律，所以异或顺序无关，那么可以先把所有偶数项异或，最后异或奇数项，而根据异或的定义，两个相同的数异或为 0 ，所以最终所有偶数项都相消，只留下了奇数项的这个数字"
   ]
  },
  {
   "cell_type": "code",
   "execution_count": 16,
   "id": "a21de4a4-71c9-4eb3-87c9-fe1b24324e6a",
   "metadata": {},
   "outputs": [
    {
     "name": "stdout",
     "output_type": "stream",
     "text": [
      "6\n"
     ]
    }
   ],
   "source": [
    "def solution(arr:list[int]) -> int:\n",
    "    eor = 0\n",
    "    for i in arr:\n",
    "        eor ^= i\n",
    "    return eor\n",
    "result = solution([1, 1, 3, 5, 7, 3, 7, 5, 6])\n",
    "print(result)"
   ]
  },
  {
   "cell_type": "markdown",
   "id": "0124165d-ccc2-4a13-a1f7-2935854afd6a",
   "metadata": {},
   "source": [
    "（2）有一个整型数组，其中有两个数字出现奇数次，其余数字全部出现偶数次，找出这个出现奇数次的数字"
   ]
  },
  {
   "cell_type": "markdown",
   "id": "71e0e478-0c19-443a-a5c5-6008910c79bb",
   "metadata": {},
   "source": [
    "解题思路：\n",
    "首先第一步，还是和第一问一样准备一个 eor 来和数组所有的数遍历一次，假设这两个数为 x 和 y，那么这次遍历之后 eor = x ^ y，\n",
    "那么接下来所要解决的就是怎么把这个 x 和 y 提出来，可以这样想：\n",
    "既然 x 和 y 是两个不同的数，那么这两个数的异或一定不为 0 ，把这个数转化为二进制表示的话，也就是说最少最少存在一位，这一位为 1 ，而这就说明，这一位上的 x 和 y，一个是0， 一个是1（这样这俩数异或之后得到的值才是1），那么我现在假设 eor 的第 5 位是 1（随便假设，方便后面理解，至于怎么找到这个 1，下面会介绍），那可以把原来数组分为两堆，第一堆是第 5 位是 1 的数字，第二堆是第 5 位是 0 的数字，那么 x 和 y一定不在同一堆，一定分别在这不同的两堆中，剩余的数字（偶数次出现的）也会分布在这两堆，那么此时我再取一个 eor' 来对第一堆或者是第二堆进行异或，这里就选用第二堆吧，那么 eor' 就会等于部分偶数次出现且第 5 位为 0 的数字以及 x 或 y的异或，那么偶数次直接消掉，x 或者 y 我们就求出来了，这里假设求出了 x，好，那么 y 怎么求呢， y = eor ^ eor'，为什么，因为 eor = x ^ y，eor' = x，所以 y 也就求出来了"
   ]
  },
  {
   "cell_type": "code",
   "execution_count": 24,
   "id": "7ec733ed-91c9-4ea8-af7a-7e19fe988ea4",
   "metadata": {},
   "outputs": [
    {
     "name": "stdout",
     "output_type": "stream",
     "text": [
      "5 7\n"
     ]
    }
   ],
   "source": [
    "def solution(arr:list[int]) ->int:\n",
    "    eor = 0\n",
    "    for i in arr:\n",
    "        eor ^= i\n",
    "    # 上面这一步完成之后, eor = x ^ y\n",
    "    # 接下来要取位为 1 的地方, 我们取最右边的 1\n",
    "    rightOne = eor & (~eor + 1) # eor和其补码做与运算, 就可以求出最右边的 1\n",
    "    onlyOne = 0 # 也就是上面说的 eor'\n",
    "    for i in arr:\n",
    "        if rightOne & i == 0: # 如果数组中的数是第二堆的（rightOne这个位置为 0）\n",
    "            onlyOne ^= i\n",
    "    # 完成上面的步骤之后, onlyOne 其实就是 x 或者 y中的一个了接下来求另外一个\n",
    "    return onlyOne,onlyOne^eor\n",
    "x, y = solution([1, 1, 2, 3, 3, 4, 4, 5, 2, 7])\n",
    "print(x, y)"
   ]
  },
  {
   "cell_type": "code",
   "execution_count": null,
   "id": "fe363c2e-664e-4be4-85a2-dc2892a92b6e",
   "metadata": {},
   "outputs": [],
   "source": []
  }
 ],
 "metadata": {
  "kernelspec": {
   "display_name": "Python 3 (ipykernel)",
   "language": "python",
   "name": "python3"
  },
  "language_info": {
   "codemirror_mode": {
    "name": "ipython",
    "version": 3
   },
   "file_extension": ".py",
   "mimetype": "text/x-python",
   "name": "python",
   "nbconvert_exporter": "python",
   "pygments_lexer": "ipython3",
   "version": "3.12.7"
  }
 },
 "nbformat": 4,
 "nbformat_minor": 5
}
