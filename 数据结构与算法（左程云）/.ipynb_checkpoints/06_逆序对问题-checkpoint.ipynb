{
 "cells": [
  {
   "cell_type": "markdown",
   "id": "145b9831-d721-42d7-bcee-4ebcfaf6af9e",
   "metadata": {},
   "source": [
    "# **统计差绝对值小于等于 K 的逆序对**  \n",
    "**难度**：中等\n",
    "\n",
    "\n",
    "## **题目描述**  \n",
    "给定一个整数数组 `nums` 和一个整数 `K`，统计数组中满足以下条件的逆序对数目：  \n",
    "**逆序对**定义为下标 `i < j` 且 `nums[i] > nums[j]`，同时满足 **`nums[i] - nums[j] ≤ K`**。\n",
    "\n",
    "\n",
    "## **示例 1**  \n",
    "**输入**：`nums = [3, 2, 5, 4], K = 1`  \n",
    "**输出**：`2`  \n",
    "**解释**：  \n",
    "满足条件的逆序对为 `(3,2)`（差为 1）和 `(5,4)`（差为 1）。\n",
    "\n",
    "\n",
    "## **示例 2**  \n",
    "**输入**：`nums = [2, 4, 1, 3, 5], K = 2`  \n",
    "**输出**：`3`  \n",
    "**解释**：  \n",
    "满足条件的逆序对为：  \n",
    "- `(2, 1)`（差 1 ≤ 2）  \n",
    "- `(4, 3)`（差 1 ≤ 2）  \n",
    "- `(3, 1)`（差 2 ≤ 2）  \n",
    "\n",
    "\n",
    "## **提示**  \n",
    "1. `1 ≤ nums.length ≤ 10^4`  \n",
    "2. `-10^9 ≤ nums[i] ≤ 10^9`  \n",
    "3. `0 ≤ K ≤ 10^9`\n",
    "\n",
    "\n",
    "## **进阶**  \n",
    "你可以设计一个时间复杂度为 **O(n log n)** 的算法吗？\n",
    "\n",
    "\n",
    " \n",
    "**注**：示例 2 的解释已修正，确保逻辑一致性。"
   ]
  },
  {
   "cell_type": "code",
   "execution_count": 13,
   "id": "bd4589d0-43f1-43c5-9ea7-99c39d8c33f6",
   "metadata": {},
   "outputs": [
    {
     "name": "stdout",
     "output_type": "stream",
     "text": [
      "7\n"
     ]
    }
   ],
   "source": [
    "# 没解决完\n",
    "\n",
    "def merge_sort(arr:list):\n",
    "    n = len(arr)\n",
    "    if n <= 1:\n",
    "        return arr, 0\n",
    "        \n",
    "    mid = n // 2\n",
    "    left, left_counts = merge_sort(arr[:mid])\n",
    "    right, right_counts = merge_sort(arr[mid:])\n",
    "    sorted_list, cross_counts = merge(left, right)\n",
    "\n",
    "    total_counts = left_counts + right_counts + cross_counts\n",
    "    return sorted_list, total_counts\n",
    "\n",
    "def merge(left:list, right:list):\n",
    "    merged = []\n",
    "    counts = 0\n",
    "    i  = 0\n",
    "    j = 0\n",
    "    while i < len(left) and j < len(right):\n",
    "        if left[i] <= right[j]:\n",
    "            merged.append(left[i])\n",
    "            i += 1\n",
    "        else:\n",
    "            counts += j + 1\n",
    "            merged.append(right[j])\n",
    "            j += 1\n",
    "    merged.extend(left[i:])\n",
    "    merged.extend(right[j:])\n",
    "\n",
    "    return merged, counts\n",
    "\n",
    "result = merge_sort([3,1,2,5,0])\n",
    "print(result[1])"
   ]
  },
  {
   "cell_type": "code",
   "execution_count": null,
   "id": "865f5133-3e55-47e2-a035-c83cdd4305aa",
   "metadata": {},
   "outputs": [],
   "source": []
  }
 ],
 "metadata": {
  "kernelspec": {
   "display_name": "Python 3 (ipykernel)",
   "language": "python",
   "name": "python3"
  },
  "language_info": {
   "codemirror_mode": {
    "name": "ipython",
    "version": 3
   },
   "file_extension": ".py",
   "mimetype": "text/x-python",
   "name": "python",
   "nbconvert_exporter": "python",
   "pygments_lexer": "ipython3",
   "version": "3.12.7"
  }
 },
 "nbformat": 4,
 "nbformat_minor": 5
}
