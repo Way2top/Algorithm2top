{
 "cells": [
  {
   "cell_type": "code",
   "execution_count": 102,
   "id": "b67b5d6e-a947-4839-8b22-4fbc3a6a0c75",
   "metadata": {},
   "outputs": [],
   "source": [
    "a = [1, 3, 7, 6, 4, 5, 8, 2, 10, 9]"
   ]
  },
  {
   "cell_type": "code",
   "execution_count": 104,
   "id": "fe9dec1d-20bc-47d8-9e40-ca54d2ff0e4d",
   "metadata": {},
   "outputs": [],
   "source": [
    "# 选择排序\n",
    "def selectionSort(arr:list):\n",
    "    for i in range(len(arr)):\n",
    "        min_index = i\n",
    "        for j in range(i+1, len(arr)):\n",
    "            if a[j] < a[min_index]:\n",
    "                min_index = j\n",
    "        if min_index != i:\n",
    "            a[i], a[min_index] = a[min_index], a[i]\n",
    "    return arr"
   ]
  },
  {
   "cell_type": "code",
   "execution_count": 106,
   "id": "da59d158-5160-4297-9a81-d73e882a6334",
   "metadata": {},
   "outputs": [],
   "source": [
    "# 冒泡排序\n",
    "def bubbleSort(arr:list):\n",
    "    for i in range(len(arr)-1):\n",
    "        for j in range(len(arr)-1-i):\n",
    "            if arr[j] > arr[j + 1]:\n",
    "                arr[j], arr[j+1] = arr[j+1], arr[j]\n",
    "    return arr"
   ]
  },
  {
   "cell_type": "code",
   "execution_count": 108,
   "id": "7b5c46b8-d380-491b-be6a-a29ed7bb58b0",
   "metadata": {},
   "outputs": [],
   "source": [
    "# 插入排序\n",
    "def insertionSort(arr:list):\n",
    "    # 0到 i上有序\n",
    "    # 0到 0肯定是有序的, 所以从 1开始\n",
    "    for i in range(1, len(arr)):\n",
    "        j = i - 1\n",
    "        current = arr[i]\n",
    "        while j >= 0 and current < arr[j]:\n",
    "            arr[j + 1] = a[j]\n",
    "            j -= 1\n",
    "        a[j + 1] = current\n",
    "    return arr"
   ]
  },
  {
   "cell_type": "code",
   "execution_count": 110,
   "id": "3d5cc65f-4464-4967-b6f2-4ab07f62d424",
   "metadata": {},
   "outputs": [
    {
     "name": "stdout",
     "output_type": "stream",
     "text": [
      "[1, 2, 3, 4, 5, 6, 7, 8, 9, 10]\n"
     ]
    }
   ],
   "source": [
    "if __name__ == '__main__':\n",
    "    # result_01 = selectionSort(a)\n",
    "    # print(result_01)\n",
    "\n",
    "    # result_02 = bubbleSort(a)\n",
    "    # print(result_02)\n",
    "\n",
    "    result_03 = insertionSort(a)\n",
    "    print(result_03)"
   ]
  },
  {
   "cell_type": "code",
   "execution_count": null,
   "id": "350ae56a-8945-4ab7-b11a-a0de06c387a9",
   "metadata": {},
   "outputs": [],
   "source": []
  },
  {
   "cell_type": "code",
   "execution_count": null,
   "id": "3e78b2ad-436d-4b5e-b722-9b6c0e922acd",
   "metadata": {},
   "outputs": [],
   "source": []
  }
 ],
 "metadata": {
  "kernelspec": {
   "display_name": "Python 3 (ipykernel)",
   "language": "python",
   "name": "python3"
  },
  "language_info": {
   "codemirror_mode": {
    "name": "ipython",
    "version": 3
   },
   "file_extension": ".py",
   "mimetype": "text/x-python",
   "name": "python",
   "nbconvert_exporter": "python",
   "pygments_lexer": "ipython3",
   "version": "3.12.7"
  }
 },
 "nbformat": 4,
 "nbformat_minor": 5
}
