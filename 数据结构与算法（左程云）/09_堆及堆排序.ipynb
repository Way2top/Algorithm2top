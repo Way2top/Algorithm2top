{
 "cells": [
  {
   "cell_type": "code",
   "execution_count": 35,
   "id": "a9ca70ec-6564-4ff8-a843-a12cf6db9e39",
   "metadata": {},
   "outputs": [],
   "source": [
    "# 某个数在 index位置时候，往上调整的逻辑\n",
    "def heapInsert(arr:list, index:int):\n",
    "    while arr[index] > arr[int((index - 1)/2)]:\n",
    "        arr[index], arr[int((index - 1)/2)] = arr[int((index - 1)/2)], arr[index]\n",
    "        index = int((index - 1)/2)"
   ]
  },
  {
   "cell_type": "code",
   "execution_count": 37,
   "id": "b79c71a7-2e32-41fa-a3f6-a0885c6a852c",
   "metadata": {
    "scrolled": true
   },
   "outputs": [],
   "source": [
    "def heapify(arr:list, index:int, heapsize:int):\n",
    "    left = index * 2 + 1 # 左孩子结点的索引\n",
    "    while left < heapsize: # 该父结点存在孩子结点的话\n",
    "        # 在两个孩子结点中选择较大的那一个\n",
    "        # 如果右孩子存在且大于左孩子，最大索引给右孩子，否则给左孩子\n",
    "        largest_index = left + 1 if left + 1 < heapsize and arr[left + 1] > arr[left] else left\n",
    "        # 如果父节点小于孩子结点中较大的那一个\n",
    "        largest_index = largest_index if arr[largest_index] > arr[index] else index\n",
    "        if largest_index == index: # 说明父节点比子节点中最大的那个还要大，不需要调整了\n",
    "            break\n",
    "        arr[largest_index], arr[index] = arr[index], arr[largest_index]\n",
    "        index = largest_index\n",
    "        left = index * 2 + 1"
   ]
  },
  {
   "cell_type": "code",
   "execution_count": 39,
   "id": "9d366f32-cf3a-42e2-b4b9-29368a4521de",
   "metadata": {},
   "outputs": [
    {
     "data": {
      "text/plain": [
       "[1, 2, 2, 3, 4, 5, 5, 7, 8, 8, 9]"
      ]
     },
     "execution_count": 39,
     "metadata": {},
     "output_type": "execute_result"
    }
   ],
   "source": [
    "# 堆排序\n",
    "def heapSort(arr):\n",
    "    # 通过 heapInsert方式将 arr构造成大根堆\n",
    "    for i in range(len(arr)):\n",
    "        heapInsert(arr, i)\n",
    "\n",
    "    heapsize = len(arr)\n",
    "    arr[0], arr[heapsize - 1] = arr[heapsize - 1], arr[0]\n",
    "    heapsize -=1\n",
    "    \n",
    "    while heapsize > 0:\n",
    "        heapify(arr, 0, heapsize)\n",
    "        arr[0], arr[heapsize - 1] = arr[heapsize - 1], arr[0]\n",
    "        heapsize -=1\n",
    "\n",
    "\n",
    "test = [3, 1, 5, 2, 9, 8, 8, 4, 5, 7, 2]\n",
    "heapSort(test)\n",
    "test\n",
    "    \n",
    "    "
   ]
  },
  {
   "cell_type": "code",
   "execution_count": null,
   "id": "f8673b4f-979c-4a7d-b982-5b5222706a93",
   "metadata": {},
   "outputs": [],
   "source": []
  }
 ],
 "metadata": {
  "kernelspec": {
   "display_name": "Python 3 (ipykernel)",
   "language": "python",
   "name": "python3"
  },
  "language_info": {
   "codemirror_mode": {
    "name": "ipython",
    "version": 3
   },
   "file_extension": ".py",
   "mimetype": "text/x-python",
   "name": "python",
   "nbconvert_exporter": "python",
   "pygments_lexer": "ipython3",
   "version": "3.12.7"
  }
 },
 "nbformat": 4,
 "nbformat_minor": 5
}
