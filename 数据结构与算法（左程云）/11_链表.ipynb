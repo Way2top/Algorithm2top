{
 "cells": [
  {
   "cell_type": "code",
   "execution_count": 1,
   "id": "751672c7-1e26-4341-b9f5-7da1990838c5",
   "metadata": {},
   "outputs": [],
   "source": [
    "class ListNode:\n",
    "    def __init__(self, val):\n",
    "        # 初始化链表节点，val 为节点存储的值\n",
    "        self.val = val\n",
    "        # 初始化指向下一个节点的指针，初始为 None\n",
    "        self.next = None\n",
    "\n",
    "    def insert(self, val):\n",
    "        # 用 cur 变量接收当前链表的头节点\n",
    "        cur = self\n",
    "        # 从头节点开始遍历链表，只要当前节点的下一个节点不为空，就继续往后遍历\n",
    "        while cur.next:\n",
    "            cur = cur.next\n",
    "        # 当遍历到链表的最后一个节点时，创建一个新节点并将其连接到链表尾部\n",
    "        cur.next = ListNode(val)\n",
    "\n",
    "    # 遍历链表并打印每个节点的值\n",
    "    def traverse(self):\n",
    "        cur = self\n",
    "        while cur:\n",
    "            # 打印当前节点的值，使用 end=' ' 让值在同一行输出，并用空格分隔\n",
    "            print(cur.val, end=' ')\n",
    "            cur = cur.next\n",
    "        # 遍历结束后换行，使输出更美观\n",
    "        print()"
   ]
  },
  {
   "cell_type": "code",
   "execution_count": 3,
   "id": "101c6201-aff0-4e34-bba2-5fede3908aeb",
   "metadata": {},
   "outputs": [
    {
     "name": "stdout",
     "output_type": "stream",
     "text": [
      "10 20 30 40 50 60 \n"
     ]
    }
   ],
   "source": [
    "# 创建链表的头节点\n",
    "head = ListNode(10)\n",
    "# 依次插入节点\n",
    "head.insert(20)\n",
    "head.insert(30)\n",
    "head.insert(40)\n",
    "head.insert(50)\n",
    "head.insert(60)\n",
    "# 遍历链表并打印节点值\n",
    "head.traverse()"
   ]
  },
  {
   "cell_type": "code",
   "execution_count": null,
   "id": "16a42ffc-0fb9-4218-9810-0ff510a129e1",
   "metadata": {},
   "outputs": [],
   "source": []
  }
 ],
 "metadata": {
  "kernelspec": {
   "display_name": "Python 3 (ipykernel)",
   "language": "python",
   "name": "python3"
  },
  "language_info": {
   "codemirror_mode": {
    "name": "ipython",
    "version": 3
   },
   "file_extension": ".py",
   "mimetype": "text/x-python",
   "name": "python",
   "nbconvert_exporter": "python",
   "pygments_lexer": "ipython3",
   "version": "3.12.7"
  }
 },
 "nbformat": 4,
 "nbformat_minor": 5
}
