{
 "cells": [
  {
   "cell_type": "code",
   "execution_count": 23,
   "id": "98380500-f769-4f5e-bf28-2e5cad3290e7",
   "metadata": {},
   "outputs": [],
   "source": [
    "def merge_sort(arr:list):\n",
    "    if len(arr) <= 1:\n",
    "        return arr\n",
    "\n",
    "    mid = len(arr) // 2\n",
    "    left = merge_sort(arr[:mid])\n",
    "    right = merge_sort(arr[mid:])\n",
    "\n",
    "    return merge(left, right)\n",
    "\n",
    "def merge(left:list, right:list):\n",
    "    merged = []\n",
    "    i = 0\n",
    "    j = 0\n",
    "    while i < len(left) and j < len(right):\n",
    "        if left[i] < right[j]:\n",
    "            merged.append(left[i])\n",
    "            i += 1\n",
    "        else:\n",
    "            merged.append(right[j])\n",
    "            j += 1\n",
    "    merged.extend(left[i:])\n",
    "    merged.extend(right[j:])\n",
    "\n",
    "    return merged"
   ]
  },
  {
   "cell_type": "code",
   "execution_count": 27,
   "id": "91526a39-f8dd-4368-b25a-e0b6209c8fe7",
   "metadata": {},
   "outputs": [
    {
     "name": "stdout",
     "output_type": "stream",
     "text": [
      "[0, 1, 2, 3, 4, 5, 6, 7, 8, 9]\n"
     ]
    }
   ],
   "source": [
    "a = [3, 4, 1, 6, 7, 9, 2, 8, 0, 5]\n",
    "print(merge_sort(a))"
   ]
  },
  {
   "cell_type": "code",
   "execution_count": null,
   "id": "793c18c9-b11b-4c01-ad84-9790ce8729c4",
   "metadata": {},
   "outputs": [],
   "source": []
  }
 ],
 "metadata": {
  "kernelspec": {
   "display_name": "Python 3 (ipykernel)",
   "language": "python",
   "name": "python3"
  },
  "language_info": {
   "codemirror_mode": {
    "name": "ipython",
    "version": 3
   },
   "file_extension": ".py",
   "mimetype": "text/x-python",
   "name": "python",
   "nbconvert_exporter": "python",
   "pygments_lexer": "ipython3",
   "version": "3.12.7"
  }
 },
 "nbformat": 4,
 "nbformat_minor": 5
}
