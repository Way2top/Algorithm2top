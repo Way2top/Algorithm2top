{
 "cells": [
  {
   "cell_type": "markdown",
   "id": "307db0db-b002-4761-bae2-f0643cd5f438",
   "metadata": {},
   "source": [
    "​\t在一个数组中，每一个数左边比当前数小的数累加起来，叫做这个数组的小和。求一个数组的小和。\n",
    "\n",
    "​\t例：[1, 3, 4, 2, 5]\n",
    "\n",
    "​\t1 左边比 1小的数字，没有；3 左边比 3 小的数字， 1；4 左边比 4 小的数字，1/3；2 左边比 2 小的数字， 1； 5 左边比 5 小的数， 1/3/4/2；所以小和为 1 + 1 + 3 + 1 + 1 +3 +4 +2 = 16"
   ]
  },
  {
   "cell_type": "markdown",
   "id": "c8759de7-1941-43c4-999a-085341e36f08",
   "metadata": {},
   "source": [
    "思路：求比这个数左边小的数的和，可以转化为这个数右边比这个数大的有几个，有几个就是这个数加几次，然后采用归并排序解决问题，在归并的过程中记录在这个数右边比这个数大的数有几个"
   ]
  },
  {
   "cell_type": "code",
   "execution_count": 1,
   "id": "0c3514e9-269f-4c4f-b916-cf6b6ddf8bba",
   "metadata": {},
   "outputs": [],
   "source": [
    "def merge_sort(arr: list):\n",
    "    if len(arr) <= 1:\n",
    "        return arr, 0\n",
    "    mid = len(arr) // 2\n",
    "    left, left_count = merge_sort(arr[:mid])\n",
    "    right, right_count = merge_sort(arr[mid:])\n",
    "    sorted_arr, cross_count = merge(left, right)\n",
    "    # 累加左子数组小和、右子数组小和以及合并过程中的小和\n",
    "    total_count = left_count + right_count + cross_count\n",
    "    return sorted_arr, total_count\n",
    "    \n",
    "def merge(left:list, right:list):\n",
    "    merged = []\n",
    "    count = 0\n",
    "    i = 0\n",
    "    j = 0\n",
    "    while i < len(left) and j < len(right):\n",
    "        if left[i] < right[j]:\n",
    "            count +=  left[i] * (len(right) - j)\n",
    "            merged.append(left[i])\n",
    "            i += 1\n",
    "        else:\n",
    "            merged.append(right[j])\n",
    "            j += 1\n",
    "    merged.extend(left[i:])\n",
    "    merged.extend(right[j:])\n",
    "    \n",
    "    return merged, count"
   ]
  },
  {
   "cell_type": "code",
   "execution_count": 9,
   "id": "8211ab6c-9b3a-4b7f-bfa0-0398c81e4030",
   "metadata": {},
   "outputs": [
    {
     "name": "stdout",
     "output_type": "stream",
     "text": [
      "19\n"
     ]
    }
   ],
   "source": [
    "a = [1, 3, 4, 2, 5, 3]\n",
    "arr, result = merge_sort(a)\n",
    "print(result)"
   ]
  },
  {
   "cell_type": "code",
   "execution_count": null,
   "id": "4236c821-97fb-4289-a37e-f58f89ad39ca",
   "metadata": {},
   "outputs": [],
   "source": []
  }
 ],
 "metadata": {
  "kernelspec": {
   "display_name": "Python 3 (ipykernel)",
   "language": "python",
   "name": "python3"
  },
  "language_info": {
   "codemirror_mode": {
    "name": "ipython",
    "version": 3
   },
   "file_extension": ".py",
   "mimetype": "text/x-python",
   "name": "python",
   "nbconvert_exporter": "python",
   "pygments_lexer": "ipython3",
   "version": "3.12.7"
  }
 },
 "nbformat": 4,
 "nbformat_minor": 5
}
