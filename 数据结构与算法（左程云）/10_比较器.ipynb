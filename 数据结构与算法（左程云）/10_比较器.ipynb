{
 "cells": [
  {
   "cell_type": "code",
   "execution_count": 5,
   "id": "6af31238-84ae-4ef0-9844-3631a9232de2",
   "metadata": {},
   "outputs": [
    {
     "name": "stdout",
     "output_type": "stream",
     "text": [
      "[3, 1, 2, 5, 9, 4, 7, 0]\n",
      "[9, 7, 5, 4, 3, 2, 1, 0]\n"
     ]
    }
   ],
   "source": [
    "from functools import cmp_to_key\n",
    "\n",
    "# 系统排序函数 sorted 使用比较器修改比较规则\n",
    "def reverse_comparator(n1, n2):\n",
    "    return n2 - n1\n",
    "\n",
    "test = [3, 1, 2, 5, 9, 4, 7, 0]\n",
    "result  = sorted(test, key=cmp_to_key(reverse_comparator))\n",
    "print(test)\n",
    "print(result)\n"
   ]
  },
  {
   "cell_type": "code",
   "execution_count": null,
   "id": "a25a67dc-5726-492c-af9e-3571fada0785",
   "metadata": {},
   "outputs": [],
   "source": []
  }
 ],
 "metadata": {
  "kernelspec": {
   "display_name": "Python 3 (ipykernel)",
   "language": "python",
   "name": "python3"
  },
  "language_info": {
   "codemirror_mode": {
    "name": "ipython",
    "version": 3
   },
   "file_extension": ".py",
   "mimetype": "text/x-python",
   "name": "python",
   "nbconvert_exporter": "python",
   "pygments_lexer": "ipython3",
   "version": "3.12.7"
  }
 },
 "nbformat": 4,
 "nbformat_minor": 5
}
